{
 "cells": [
  {
   "cell_type": "code",
   "execution_count": null,
   "metadata": {},
   "outputs": [],
   "source": [
    "\n",
    "'''Source :https://skerritt.blog/dynamic-programming/'''\n",
    "# Returns the maximum value that can be put in a knapsack of \n",
    "# capacity W \n",
    "def knapSack(W , wt , val , n): \n",
    "  \n",
    "    # Base Case \n",
    "    if n == 0 or W == 0: \n",
    "        return 0\n",
    "  \n",
    "    # If weight of the nth item is more than Knapsack of capacity \n",
    "    # W, then this item cannot be included in the optimal solution \n",
    "    if (wt[n-1] > W): \n",
    "        return knapSack(W , wt , val , n-1) \n",
    "  \n",
    "    # return the maximum of two cases: \n",
    "    # (1) nth item included \n",
    "    # (2) not included \n",
    "    else: \n",
    "        return max(val[n-1] + knapSack(W-wt[n-1] , wt , val , n-1), \n",
    "                   knapSack(W , wt , val , n-1)) \n",
    "  \n",
    "  \n",
    "# To test above function \n",
    "val = [60, 100, 120] \n",
    "wt = [10, 20, 30] \n",
    "W = 50\n",
    "n = len(val) \n",
    "print(knapSack(W , wt , val , n))\n",
    "# output 220"
   ]
  }
 ],
 "metadata": {
  "kernelspec": {
   "display_name": "Python 3",
   "language": "python",
   "name": "python3"
  },
  "language_info": {
   "codemirror_mode": {
    "name": "ipython",
    "version": 3
   },
   "file_extension": ".py",
   "mimetype": "text/x-python",
   "name": "python",
   "nbconvert_exporter": "python",
   "pygments_lexer": "ipython3",
   "version": "3.7.2"
  }
 },
 "nbformat": 4,
 "nbformat_minor": 4
}
