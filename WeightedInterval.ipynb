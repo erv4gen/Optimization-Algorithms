{
 "cells": [
  {
   "cell_type": "code",
   "execution_count": null,
   "metadata": {},
   "outputs": [],
   "source": [
    "'''Source :https://skerritt.blog/dynamic-programming/'''"
   ]
  },
  {
   "cell_type": "code",
   "execution_count": 1,
   "metadata": {},
   "outputs": [],
   "source": [
    "from ipdb import set_trace"
   ]
  },
  {
   "cell_type": "code",
   "execution_count": null,
   "metadata": {},
   "outputs": [],
   "source": []
  },
  {
   "cell_type": "code",
   "execution_count": 13,
   "metadata": {},
   "outputs": [],
   "source": [
    "# Python program for weighted job scheduling using Dynamic \n",
    "# Programming and Binary Search \n",
    "\n",
    "# Class to represent a job \n",
    "class Job: \n",
    "\tdef __init__(self, start, finish, profit): \n",
    "\t\tself.start = start \n",
    "\t\tself.finish = finish \n",
    "\t\tself.profit = profit \n",
    "\tdef __call__(self):\n",
    "\t\tprint((self.start,self.finish,self.profit))\n",
    "\n",
    "# A Binary Search based function to find the latest job \n",
    "# (before current job) that doesn't conflict with current \n",
    "# job. \"index\" is index of the current job. This function \n",
    "# returns -1 if all jobs before index conflict with it. \n",
    "def binarySearch(job, start_index): \n",
    "\t# https://en.wikipedia.org/wiki/Binary_search_algorithm\n",
    "\n",
    "\t# Initialize 'lo' and 'hi' for Binary Search \n",
    "\tlo = 0\n",
    "\thi = start_index - 1\n",
    "\n",
    "\t# Perform binary Search iteratively \n",
    "\twhile lo <= hi: \n",
    "\t\tmid = (lo + hi) // 2\n",
    "\t\tif job[mid].finish <= job[start_index].start: \n",
    "\t\t\tif job[mid + 1].finish <= job[start_index].start: \n",
    "\t\t\t\tlo = mid + 1\n",
    "\t\t\telse: \n",
    "\t\t\t\treturn mid \n",
    "\t\telse: \n",
    "\t\t\thi = mid - 1\n",
    "\treturn -1\n",
    "\n",
    "# The main function that returns the maximum possible \n",
    "# profit from given array of jobs \n",
    "def schedule(job): \n",
    "\t# Sort jobs according to start time\n",
    "\tset_trace()\n",
    "\tjob = sorted(job, key = lambda j: (j.start,1/j.profit) )\n",
    "\n",
    "\t# Create an array to store solutions of subproblems. table[i] \n",
    "\t# stores the profit for jobs till arr[i] (including arr[i]) \n",
    "\tn = len(job) \n",
    "\ttable = [0 for _ in range(n)] \n",
    "\n",
    "\ttable[0] = job[0].profit; \n",
    "\n",
    "\t# Fill entries in table[] using recursive property \n",
    "\tfor i in range(1, n): \n",
    "\n",
    "\t\t# Find profit including the current job \n",
    "\t\tinclProf = job[i].profit \n",
    "\t\tl = binarySearch(job, i) \n",
    "\t\tif (l != -1): \n",
    "\t\t\tinclProf += table[l]; \n",
    "\n",
    "\t\t# Store maximum of including and excluding \n",
    "\t\ttable[i] = max(inclProf, table[i - 1]) \n",
    "\n",
    "\treturn table[n-1] \n",
    "\n",
    "# Driver code to test above function \n",
    "job = [\n",
    "       Job(1, 4, 60) #0 - no\n",
    "        ,Job(1, 5, 50) #1 - no\n",
    "        ,Job(2, 14, 100) #2 - yes\n",
    "       ,Job(5, 100, 200) #3  -no\n",
    "    ,Job(17, 120, 210) #4   - yes\n",
    "       ,Job(18, 100, 200)  #5    -no \n",
    "       ,Job(110, 125, 34) #6 - no\n",
    "      ] \n"
   ]
  },
  {
   "cell_type": "code",
   "execution_count": null,
   "metadata": {},
   "outputs": [],
   "source": []
  }
 ],
 "metadata": {
  "kernelspec": {
   "display_name": "Python 3",
   "language": "python",
   "name": "python3"
  },
  "language_info": {
   "codemirror_mode": {
    "name": "ipython",
    "version": 3
   },
   "file_extension": ".py",
   "mimetype": "text/x-python",
   "name": "python",
   "nbconvert_exporter": "python",
   "pygments_lexer": "ipython3",
   "version": "3.7.2"
  }
 },
 "nbformat": 4,
 "nbformat_minor": 4
}
